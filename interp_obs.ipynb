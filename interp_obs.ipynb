{
 "cells": [
  {
   "cell_type": "markdown",
   "metadata": {},
   "source": [
    "## Download Data First"
   ]
  },
  {
   "cell_type": "code",
   "execution_count": null,
   "metadata": {},
   "outputs": [],
   "source": [
    "!curl -O -J -L https://www.bodc.ac.uk/data/open_download/gebco/GEBCO_30SEC/zip/"
   ]
  },
  {
   "cell_type": "code",
   "execution_count": null,
   "metadata": {},
   "outputs": [],
   "source": [
    "!unzip GEBCO_2014.zip"
   ]
  },
  {
   "cell_type": "code",
   "execution_count": null,
   "metadata": {},
   "outputs": [],
   "source": [
    "!curl -O -J -L https://cchdo.ucsd.edu/data/14186/33RO20161119_hy1.csv >> 33RO20161119_hy1.csv"
   ]
  },
  {
   "cell_type": "code",
   "execution_count": null,
   "metadata": {},
   "outputs": [],
   "source": [
    "import scipy.interpolate as scint\n",
    "import pandas as pd\n",
    "import xarray as xr\n",
    "import numpy as np\n",
    "import matplotlib.pyplot as plt\n",
    "%matplotlib inline"
   ]
  },
  {
   "cell_type": "code",
   "execution_count": null,
   "metadata": {},
   "outputs": [],
   "source": [
    "from dask.distributed import Client\n",
    "\n",
    "client = Client(\"tcp://10.32.5.238:34809\")\n",
    "client"
   ]
  },
  {
   "cell_type": "markdown",
   "metadata": {},
   "source": [
    "# Load data"
   ]
  },
  {
   "cell_type": "code",
   "execution_count": null,
   "metadata": {},
   "outputs": [],
   "source": [
    "# topography\n",
    "ds = xr.open_dataset('GEBCO_2014_2D.nc',decode_times=False)\n",
    "ds"
   ]
  },
  {
   "cell_type": "code",
   "execution_count": null,
   "metadata": {},
   "outputs": [],
   "source": [
    "# remove comments from observation csv\n",
    "f = open('33RO20161119_hy1.csv','r')\n",
    "lines = f.readlines()\n",
    "f = open('33RO20161119_hy1.csv','w')\n",
    "f.writelines([line for line in lines if '#' not in line])"
   ]
  },
  {
   "cell_type": "code",
   "execution_count": null,
   "metadata": {},
   "outputs": [],
   "source": [
    "# obsrvations\n",
    "df = pd.read_csv('33RO20161119_hy1.csv',skiprows=[0,2],na_values=-999)\n",
    "df.columns"
   ]
  },
  {
   "cell_type": "code",
   "execution_count": null,
   "metadata": {},
   "outputs": [],
   "source": [
    "df.head()"
   ]
  },
  {
   "cell_type": "code",
   "execution_count": null,
   "metadata": {},
   "outputs": [],
   "source": [
    "ovar = 'SALNTY' # observed variable we want to plot\n",
    "station_header_name = 'STNNBR'\n",
    "lat_header_name = 'LATITUDE'\n",
    "lon_header_name = 'LONGITUDE'\n",
    "depth_header_name = 'CTDPRS'"
   ]
  },
  {
   "cell_type": "code",
   "execution_count": null,
   "metadata": {},
   "outputs": [],
   "source": [
    "df = df.dropna(subset=[depth_header_name, station_header_name])"
   ]
  },
  {
   "cell_type": "markdown",
   "metadata": {},
   "source": [
    "# Interpolate Observations to Mesh"
   ]
  },
  {
   "cell_type": "code",
   "execution_count": null,
   "metadata": {},
   "outputs": [],
   "source": [
    "# create a mesh\n",
    "depth = np.linspace(0,6000,100)\n",
    "stations = df.groupby(station_header_name).mean().index #groupby by station\n",
    "lat_station = df.groupby(station_header_name).mean()[lat_header_name]\n",
    "lon_station = df.groupby(station_header_name).mean()[lon_header_name]\n",
    "\n",
    "stations_grid,depth_grid = np.meshgrid(stations,depth)"
   ]
  },
  {
   "cell_type": "code",
   "execution_count": null,
   "metadata": {},
   "outputs": [],
   "source": [
    "# you should probably check that these variables are not loaded in as strings\n",
    "stations_obs = df[station_header_name]\n",
    "lat_obs = df[lat_header_name]\n",
    "lon_obs = df[lon_header_name]\n",
    "depth_obs = df[depth_header_name]\n",
    "ovar_obs = df[ovar] \n",
    "\n",
    "# interp obs to mesh for plotting\n",
    "interpolated_obs = scint.griddata((stations_obs, depth_obs/10),ovar_obs,\n",
    "                          (stations_grid, depth_grid/10),\n",
    "                          method='linear')\n",
    "\n",
    "interpolated_obs = xr.DataArray(interpolated_obs,dims=['depth','station'],\n",
    "                                coords={'depth':('depth',-depth),\n",
    "                                        'station':('station',stations),\n",
    "                                        'lat':('station',lat_station),\n",
    "                                        'lon':('station',lon_station)})"
   ]
  },
  {
   "cell_type": "markdown",
   "metadata": {},
   "source": [
    "# Unmasked Section"
   ]
  },
  {
   "cell_type": "code",
   "execution_count": null,
   "metadata": {},
   "outputs": [],
   "source": [
    "interpolated_obs.plot()"
   ]
  },
  {
   "cell_type": "markdown",
   "metadata": {},
   "source": [
    "# Mask Topography\n",
    "\n",
    "Use xarray's interpolation function to subsample topography"
   ]
  },
  {
   "cell_type": "code",
   "execution_count": null,
   "metadata": {},
   "outputs": [],
   "source": [
    "lat = xr.DataArray(lat_station, dims='station')\n",
    "lon = xr.DataArray(lon_station, dims='station')\n",
    "topo = ds.elevation.interp(lon=lon, lat=lat)"
   ]
  },
  {
   "cell_type": "code",
   "execution_count": null,
   "metadata": {},
   "outputs": [],
   "source": [
    "plt.pcolormesh(interpolated_obs.lat,\n",
    "               interpolated_obs.depth,\n",
    "               interpolated_obs.where(interpolated_obs.depth > topo),\n",
    "               vmin=34,vmax=35.5)\n",
    "\n",
    "plt.title(ovar)\n",
    "plt.xlabel('Latitude')\n",
    "plt.ylim(-5000,0)\n",
    "plt.colorbar()"
   ]
  },
  {
   "cell_type": "markdown",
   "metadata": {},
   "source": [
    "# Let's see how well this works"
   ]
  },
  {
   "cell_type": "markdown",
   "metadata": {},
   "source": [
    "### Scatter plot of raw observations"
   ]
  },
  {
   "cell_type": "code",
   "execution_count": null,
   "metadata": {},
   "outputs": [],
   "source": [
    "plt.figure(dpi=300)\n",
    "\n",
    "plt.scatter(lat_obs, -depth_obs, s=0.5, c=ovar_obs,\n",
    "           vmin=34,vmax=35.5,cmap=cmocean.cm.haline)\n",
    "\n",
    "plt.title(ovar)\n",
    "plt.xlabel('Latitude')\n",
    "plt.ylim(-5000,0)\n",
    "plt.colorbar()"
   ]
  },
  {
   "cell_type": "markdown",
   "metadata": {},
   "source": [
    "### Gray points indicate where samples were taken. The blank spots are where there isn't enough data to interpolate"
   ]
  },
  {
   "cell_type": "code",
   "execution_count": null,
   "metadata": {},
   "outputs": [],
   "source": [
    "plt.figure(dpi=300)\n",
    "\n",
    "plt.pcolormesh(interpolated_obs.lat,\n",
    "               interpolated_obs.depth,\n",
    "               interpolated_obs.where(interpolated_obs.depth > topo),\n",
    "               vmin=34,vmax=35.5)\n",
    "\n",
    "plt.scatter(lat_obs, -depth_obs, s=0.25, c='0.5',\n",
    "           vmin=34,vmax=35.5)\n",
    "\n",
    "plt.title(ovar)\n",
    "plt.xlabel('Latitude')\n",
    "plt.ylim(-5000,0)\n",
    "plt.colorbar()"
   ]
  },
  {
   "cell_type": "markdown",
   "metadata": {},
   "source": [
    "### Here we compare the raw observations (colored points) to the interpolated observations. If you can't see the point, the interpolation is doing a good job"
   ]
  },
  {
   "cell_type": "code",
   "execution_count": null,
   "metadata": {},
   "outputs": [],
   "source": [
    "plt.figure(dpi=300)\n",
    "\n",
    "plt.pcolormesh(interpolated_obs.lat,\n",
    "               interpolated_obs.depth,\n",
    "               interpolated_obs.where(interpolated_obs.depth > topo),\n",
    "               vmin=34,vmax=35.5)\n",
    "\n",
    "plt.scatter(lat_obs, -depth_obs, s=0.25, c=ovar_obs,\n",
    "           vmin=34,vmax=35.5)\n",
    "\n",
    "plt.title(ovar)\n",
    "plt.xlabel('Latitude')\n",
    "plt.ylim(-5000,0)\n",
    "plt.colorbar()"
   ]
  }
 ],
 "metadata": {
  "kernelspec": {
   "display_name": "Python 3",
   "language": "python",
   "name": "python3"
  },
  "language_info": {
   "codemirror_mode": {
    "name": "ipython",
    "version": 3
   },
   "file_extension": ".py",
   "mimetype": "text/x-python",
   "name": "python",
   "nbconvert_exporter": "python",
   "pygments_lexer": "ipython3",
   "version": "3.7.3"
  }
 },
 "nbformat": 4,
 "nbformat_minor": 4
}
